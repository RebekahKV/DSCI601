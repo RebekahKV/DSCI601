{
  "nbformat": 4,
  "nbformat_minor": 0,
  "metadata": {
    "colab": {
      "provenance": []
    },
    "kernelspec": {
      "name": "python3",
      "display_name": "Python 3"
    },
    "language_info": {
      "name": "python"
    }
  },
  "cells": [
    {
      "cell_type": "code",
      "execution_count": 40,
      "metadata": {
        "colab": {
          "base_uri": "https://localhost:8080/"
        },
        "id": "pkND4HM7KrUN",
        "outputId": "911fb3a6-9ff3-4357-eb20-82c1b03cf928"
      },
      "outputs": [
        {
          "output_type": "stream",
          "name": "stdout",
          "text": [
            "Done\n"
          ]
        }
      ],
      "source": [
        "# upload the jsonbyline.zip file from either CommentsParsed or NewsCommentsParsed\n",
        "from zipfile import ZipFile\n",
        "comments = \"/content/jsonbyline.zip\"\n",
        "\n",
        "with ZipFile(comments, 'r') as zip:\n",
        "  zip.extractall()\n",
        "  print('Done')"
      ]
    },
    {
      "cell_type": "code",
      "source": [
        "import os\n",
        "import json\n",
        "\n",
        "def readJson(folder_path):\n",
        "    data = []\n",
        "    for filename in os.listdir(folder_path):\n",
        "        if filename.endswith(\"_jsonbyline.txt\"):\n",
        "            filepath = os.path.join(folder_path, filename)\n",
        "            with open(filepath, \"r\") as file:\n",
        "                jsonFile = file.readlines()\n",
        "                for line in jsonFile:\n",
        "                    data.append(json.loads(line))\n",
        "    return data\n",
        "\n",
        "folder_path = \"/content/jsonbyline\"\n",
        "data = readJson(folder_path)"
      ],
      "metadata": {
        "id": "WiWXleQnKwC8"
      },
      "execution_count": 41,
      "outputs": []
    },
    {
      "cell_type": "code",
      "source": [
        "import unittest\n",
        "import os\n",
        "import json\n",
        "class TestReadJson(unittest.TestCase):\n",
        "    def test_readJson(self):\n",
        "        try:\n",
        "            folder_path = \"/content/jsonbyline\"\n",
        "            data = readJson(folder_path)\n",
        "\n",
        "            # Test if data is a list\n",
        "            self.assertIsInstance(data, list)\n",
        "            # Test if all items in data are dictionaries\n",
        "            for item in data:\n",
        "                self.assertIsInstance(item, dict)\n",
        "\n",
        "        except Exception as e:\n",
        "            self.fail(f\"An unexpected error occurred: {e}\")\n",
        "\n",
        "unittest.main(argv=[''], exit=False)"
      ],
      "metadata": {
        "colab": {
          "base_uri": "https://localhost:8080/"
        },
        "id": "SoLXXrQdJ4eg",
        "outputId": "6ec4939c-5bd4-43c5-8d27-e1b298d8049d"
      },
      "execution_count": 42,
      "outputs": [
        {
          "output_type": "stream",
          "name": "stderr",
          "text": [
            ".\n",
            "----------------------------------------------------------------------\n",
            "Ran 1 test in 0.261s\n",
            "\n",
            "OK\n"
          ]
        },
        {
          "output_type": "execute_result",
          "data": {
            "text/plain": [
              "<unittest.main.TestProgram at 0x7dc8cfe89b10>"
            ]
          },
          "metadata": {},
          "execution_count": 42
        }
      ]
    }
  ]
}