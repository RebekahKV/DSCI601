{
  "nbformat": 4,
  "nbformat_minor": 0,
  "metadata": {
    "colab": {
      "provenance": []
    },
    "kernelspec": {
      "name": "python3",
      "display_name": "Python 3"
    },
    "language_info": {
      "name": "python"
    }
  },
  "cells": [
    {
      "cell_type": "code",
      "execution_count": 2,
      "metadata": {
        "colab": {
          "base_uri": "https://localhost:8080/"
        },
        "id": "_Wugapod3xkN",
        "outputId": "6086f68a-a7b5-4c9f-ee1b-ddc57ee8488b"
      },
      "outputs": [
        {
          "output_type": "stream",
          "name": "stderr",
          "text": [
            ".\n",
            "----------------------------------------------------------------------\n",
            "Ran 1 test in 0.002s\n",
            "\n",
            "OK\n"
          ]
        },
        {
          "output_type": "stream",
          "name": "stdout",
          "text": [
            "Extraction done.\n"
          ]
        }
      ],
      "source": [
        "# Upload jsonbyline.zip from CommentsParsed/NEWSCommentsParsed to test the following code\n",
        "from zipfile import ZipFile\n",
        "import os\n",
        "import json\n",
        "import unittest\n",
        "from typing import List, Dict\n",
        "\n",
        "def extractZip(filePath: str, folder: str) -> None:\n",
        "    \"\"\"\n",
        "    Extracts files from a zip archive.\n",
        "\n",
        "    Args:\n",
        "        filePath (str): The path to the zip archive.\n",
        "        folder (str): The folder where files will be extracted.\n",
        "    \"\"\"\n",
        "    with ZipFile(filePath, 'r') as zipFile:\n",
        "        zipFile.extractall(folder)\n",
        "        print('Extraction done.')\n",
        "\n",
        "def readFiles(folder: str) -> List[Dict]:\n",
        "    \"\"\"\n",
        "    Reads JSON files from a folder and returns a list of dictionaries.\n",
        "\n",
        "    Args:\n",
        "        folder (str): The path to the folder containing JSON files.\n",
        "\n",
        "    Returns:\n",
        "        List[Dict]: A list of dictionaries containing JSON data.\n",
        "    \"\"\"\n",
        "    data = []\n",
        "    for filename in os.listdir(folder):\n",
        "        if filename.endswith(\"_jsonbyline.txt\"):\n",
        "            filepath = os.path.join(folder, filename)\n",
        "            with open(filepath, \"r\") as file:\n",
        "                jsonData = file.readlines()\n",
        "                for line in jsonData:\n",
        "                    data.append(json.loads(line))\n",
        "    return data\n",
        "\n",
        "class TestReadJson(unittest.TestCase):\n",
        "    def testReadJson(self):\n",
        "        \"\"\"\n",
        "        Test case for readJson function.\n",
        "        \"\"\"\n",
        "        try:\n",
        "            folderPath = \"/content/jsonbyline\"\n",
        "            data = readFiles(folderPath)\n",
        "\n",
        "            # Test if data is a list\n",
        "            self.assertIsInstance(data, list)\n",
        "            # Test if all items in data are dictionaries\n",
        "            for item in data:\n",
        "                self.assertIsInstance(item, dict)\n",
        "\n",
        "        except Exception as e:\n",
        "            self.fail(f\"An unexpected error occurred: {e}\")\n",
        "\n",
        "if __name__ == '__main__':\n",
        "    # Path to the zip file containing JSON files\n",
        "    comments_zip_path = \"/content/jsonbyline.zip\"\n",
        "\n",
        "    # Extract JSON files from the zip archive\n",
        "    extract_folder_path = \"/content/jsonbyline\"\n",
        "    extractZip(comments_zip_path, extract_folder_path)\n",
        "\n",
        "    # Run unit tests\n",
        "    unittest.main(argv=[''], exit=False)\n"
      ]
    }
  ]
}