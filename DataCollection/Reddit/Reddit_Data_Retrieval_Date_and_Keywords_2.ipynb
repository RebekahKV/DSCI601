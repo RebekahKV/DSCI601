{
  "cells": [
    {
      "cell_type": "markdown",
      "source": [
        "# Data Retrieval Using Reddit API"
      ],
      "metadata": {
        "id": "QMwp8QjXypof"
      }
    },
    {
      "cell_type": "markdown",
      "source": [
        "Installing Libraries"
      ],
      "metadata": {
        "id": "jdAiNgCky38n"
      }
    },
    {
      "cell_type": "code",
      "execution_count": null,
      "metadata": {
        "id": "14LSPYcm5tzc",
        "colab": {
          "base_uri": "https://localhost:8080/"
        },
        "outputId": "251a2bb5-c3d1-49b1-8bba-1b31ea1bfa05"
      },
      "outputs": [
        {
          "output_type": "stream",
          "name": "stdout",
          "text": [
            "\u001b[?25l     \u001b[90m━━━━━━━━━━━━━━━━━━━━━━━━━━━━━━━━━━━━━━━━\u001b[0m \u001b[32m0.0/191.0 kB\u001b[0m \u001b[31m?\u001b[0m eta \u001b[36m-:--:--\u001b[0m\r\u001b[2K     \u001b[90m━━━━━━━━━━━━━━━━━━━━━━━━━━━━━━━━━━━━━━━━\u001b[0m \u001b[32m191.0/191.0 kB\u001b[0m \u001b[31m6.4 MB/s\u001b[0m eta \u001b[36m0:00:00\u001b[0m\n",
            "\u001b[?25h"
          ]
        }
      ],
      "source": [
        "\"\"\"\n",
        "Install the 'praw' library using pip.\n",
        "\n",
        "The 'praw' library is a Python wrapper for the Reddit API, allowing you to easily\n",
        "access data from the Reddit platform.\n",
        "\"\"\"\n",
        "\n",
        "!pip install praw --quiet"
      ]
    },
    {
      "cell_type": "markdown",
      "source": [
        "Importing Libraries"
      ],
      "metadata": {
        "id": "Fuuf3PCvy5t_"
      }
    },
    {
      "cell_type": "code",
      "execution_count": null,
      "metadata": {
        "id": "-yHtpaDv3226"
      },
      "outputs": [],
      "source": [
        "\"\"\"\n",
        "Import required libraries for the script.\n",
        "\n",
        "This code imports the following libraries:\n",
        "\n",
        "- `praw`: A Python wrapper for the Reddit API, allowing you to easily access data from the Reddit platform.\n",
        "- `pandas`: A data manipulation library that provides easy-to-use data structures and data analysis tools.\n",
        "- `json`: A built-in Python library that provides functions for working with JSON data, which is a lightweight\n",
        "          data interchange format commonly used in web APIs.\n",
        "\"\"\"\n",
        "\n",
        "import praw\n",
        "import pandas as pd\n",
        "import json"
      ]
    },
    {
      "cell_type": "markdown",
      "source": [
        "Loading API Tokens & Creating a Reddit Instance"
      ],
      "metadata": {
        "id": "0hWZco632IXe"
      }
    },
    {
      "cell_type": "code",
      "execution_count": null,
      "metadata": {
        "id": "4eKncRZKIyq2"
      },
      "outputs": [],
      "source": [
        "\"\"\"\n",
        "Run the 'secrets.py' script that contains Reddit API tokens.\n",
        "\n",
        "This code runs the 'secrets.py' script that contains confidential information such as\n",
        "secret keys, passwords, and API tokens. The script loads the confidential information into\n",
        "the notebook environment, allowing you to access the API without exposing your credentials.\n",
        "\n",
        "After running this code cell, the 'secrets.py' file will be deleted from the system to avoid\n",
        "exposing confidential information.\n",
        "\"\"\"\n",
        "\n",
        "%run secrets.py\n",
        "# !rm secrets.py"
      ]
    },
    {
      "cell_type": "code",
      "execution_count": null,
      "metadata": {
        "id": "nP030rp46l8T"
      },
      "outputs": [],
      "source": [
        "\"\"\"\n",
        "Initialize a 'praw' Reddit API instance with authentication parameters.\n",
        "\n",
        "`praw.Reddit` initializes an instance of the `praw` Reddit API with your account\n",
        "credentials, allowing you to interact with the Reddit platform. The following\n",
        "parameters are required to authenticate your account:\n",
        "\n",
        "- `client_id`: Your Reddit application client ID, obtained by registering a new\n",
        "               app on the Reddit website.\n",
        "- `client_secret`: Your Reddit application client secret, obtained by registering\n",
        "                   a new app on the Reddit website.\n",
        "- `username`: Your Reddit account username.\n",
        "- `password`: Your Reddit account password.\n",
        "- `user_agent`: A string that identifies your Reddit application to the Reddit API.\n",
        "                It should be unique and descriptive, and follow the format\n",
        "                \"platform:app_id:version (by /u/username)\".\n",
        "\n",
        "Note: The values of the authentication parameters should be replaced with your own\n",
        "credentials for the script to function correctly.\n",
        "\"\"\"\n",
        "\n",
        "\n",
        "reddit_instance = praw.Reddit(client_id = CLIENT_ID, #peronal use script\n",
        "                    client_secret = CLIENT_SECRET, #secret token\n",
        "                    username = REDDIT_USERNAME, #profile username\n",
        "                    password = REDDIT_PASSWORD, #profile password\n",
        "                    user_agent = \"USERAGENT\")"
      ]
    },
    {
      "cell_type": "code",
      "execution_count": null,
      "metadata": {
        "id": "_4wl4-IW6wmO"
      },
      "outputs": [],
      "source": [
        "\"\"\"\n",
        "Initialize empty lists for storing Reddit post attributes.\n",
        "\n",
        "This code initializes empty lists for storing various attributes of Reddit posts, such as\n",
        "titles, selftext, scores, authors, creation timestamps, subreddits, number of comments,\n",
        "permalinks, and upvote ratios. These lists can be used to store the corresponding attributes\n",
        "of multiple Reddit posts and analyze them collectively.\n",
        "\n",
        "@var title_list: An empty list for storing the titles of Reddit posts.\n",
        "@var selftext_list: An empty list for storing the selftext of Reddit posts.\n",
        "@var score_list: An empty list for storing the scores of Reddit posts.\n",
        "@var author_list: An empty list for storing the authors of Reddit posts.\n",
        "@var created_utc_list: An empty list for storing the creation timestamps of Reddit posts in UTC.\n",
        "@var subreddit_list: An empty list for storing the subreddits of Reddit posts.\n",
        "@var num_comments_list: An empty list for storing the number of comments of Reddit posts.\n",
        "@var permalink_list: An empty list for storing the permalinks of Reddit posts.\n",
        "@var upvote_ratio_list: An empty list for storing the upvote ratios of Reddit posts.\n",
        "\"\"\"\n",
        "title_list = []\n",
        "selftext_list = []\n",
        "score_list = []\n",
        "author_list = []\n",
        "created_utc_list = []\n",
        "subreddit_list = []\n",
        "num_comments_list = []\n",
        "permalink_list = []\n",
        "upvote_ratio_list = []"
      ]
    },
    {
      "cell_type": "code",
      "execution_count": null,
      "metadata": {
        "id": "BEY5sv2R6zOy"
      },
      "outputs": [],
      "source": [
        "\"\"\"\n",
        "Initialize a list of subreddit names.\n",
        "\n",
        "This code initializes a list of subreddit names that will be used to fetch data\n",
        "from the Reddit platform. The list contains the following subreddit names:\n",
        "\n",
        "- 'guncontrol': A subreddit dedicated to discussions about gun control policies.\n",
        "- 'GunsAreCool': A subreddit that advocates for gun control and provides news and commentary on gun violence.\n",
        "- 'progun': A subreddit that supports gun rights and provides news and commentary on gun-related issues.\n",
        "- '2ALiberals': A subreddit for liberal gun owners to discuss gun-related issues.\n",
        "- 'GunViolence': A subreddit that focuses on news and discussions related to gun violence in the United States.\n",
        "- 'MassShooting': A subreddit that tracks mass shooting incidents in the United States.\n",
        "\n",
        "@param subreddit_names: A list of subreddit names.\n",
        "@type subreddit_names: list\n",
        "\"\"\"\n",
        "\n",
        "subreddit_names = ['Delhi']"
      ]
    },
    {
      "cell_type": "code",
      "source": [
        "count = 0\n",
        "import datetime\n",
        "import time\n",
        "def scrape_reddit_data(subreddit_name, reddit):\n",
        "    global count\n",
        "    \"\"\"\n",
        "    Scrapes comments and posts from the specified subreddits and returns the collected data,\n",
        "    filtering for posts from January 2024.\n",
        "\n",
        "    @param subreddit_name: A list of subreddit names to scrape.\n",
        "    @type subreddit_name: list\n",
        "\n",
        "    @return: A list of dictionaries containing information about the posts and their comments.\n",
        "    @rtype: list\n",
        "    \"\"\"\n",
        "\n",
        "    data = []\n",
        "    keywords = ['punjab', 'farmer', 'stubble']\n",
        "    query = ' OR '.join(keywords)\n",
        "\n",
        "    # Define start and end dates\n",
        "    start_date = datetime.datetime(2019, 1, 1)\n",
        "    end_date = datetime.datetime(2023, 4, 20)\n",
        "\n",
        "    # Create a subreddit object using the specified name\n",
        "    subreddit = reddit.subreddit(subreddit_name)\n",
        "\n",
        "    # Retrieve submissions from the subreddit using search\n",
        "    posts = subreddit.search(query, limit=None)\n",
        "\n",
        "    # Loop through each submission in the subreddit post\n",
        "    for post in posts:\n",
        "        # Convert post creation time from UTC to a datetime object\n",
        "        post_date = datetime.datetime.utcfromtimestamp(post.created_utc)\n",
        "\n",
        "        # Filter posts to include only those from January 2024\n",
        "        if start_date <= post_date < end_date:\n",
        "            post.comments.replace_more(limit=None)\n",
        "            comments_list = []\n",
        "\n",
        "            # Loop through each comment in each post\n",
        "            for comment in post.comments:\n",
        "                reply_list = []\n",
        "                # Loop through each reply to the comment\n",
        "                for reply in comment.replies:\n",
        "                    reply_list.append({\n",
        "                        'body': reply.body,\n",
        "                        'score': reply.score,\n",
        "                        'created_utc': reply.created_utc,\n",
        "                        'author': reply.author.name if reply.author else '[deleted]',\n",
        "                        'id': reply.id,\n",
        "                        'is_submitter': reply.is_submitter,\n",
        "                        'parent_id': reply.parent_id\n",
        "                    })\n",
        "                    time.sleep(0.1)\n",
        "                comments_list.append({\n",
        "                    'body': comment.body,\n",
        "                    'score': comment.score,\n",
        "                    'created_utc': comment.created_utc,\n",
        "                    'reply': reply_list,\n",
        "                    'author': comment.author.name if comment.author else '[deleted]',\n",
        "                    'id': comment.id,\n",
        "                    'is_submitter': comment.is_submitter,\n",
        "                    'parent_id': comment.parent_id\n",
        "                })\n",
        "                time.sleep(0.1)\n",
        "            data.append({\n",
        "                'author': post.author.name if post.author else '[deleted]',\n",
        "                'subreddit': post.subreddit.display_name,\n",
        "                'title': post.title,\n",
        "                'selftext': post.selftext,\n",
        "                'score': post.score,\n",
        "                'created_utc': post.created_utc,\n",
        "                'permalink': post.permalink,\n",
        "                'upvote_ratio': post.upvote_ratio,\n",
        "                'num_comments': post.num_comments,\n",
        "                'comments': comments_list,\n",
        "                'id': post.id\n",
        "            })\n",
        "        time.sleep(0.1)\n",
        "        count += 1\n",
        "        print(count)\n",
        "    return data"
      ],
      "metadata": {
        "id": "4CvhStpz-Y5G"
      },
      "execution_count": null,
      "outputs": []
    },
    {
      "cell_type": "markdown",
      "source": [
        "Loading Data into JSON File"
      ],
      "metadata": {
        "id": "HtCR3cfq-MJX"
      }
    },
    {
      "cell_type": "code",
      "source": [
        "def save_reddit_data_to_file(data, filename):\n",
        "    \"\"\"\n",
        "    Saves the scraped data to a JSON file with the specified filename.\n",
        "\n",
        "    :param data: The data to be saved.\n",
        "    :type data: list\n",
        "\n",
        "    :param filename: The name of the file to save the data to.\n",
        "    :type filename: str\n",
        "\n",
        "    :return: None\n",
        "    \"\"\"\n",
        "    with open(filename, 'w') as f:\n",
        "        json.dump(data, f)"
      ],
      "metadata": {
        "id": "VFEZ1cSIM_YD"
      },
      "execution_count": null,
      "outputs": []
    },
    {
      "cell_type": "code",
      "source": [
        "# Loop through each subreddit name in the list\n",
        "for each_subreddit in subreddit_names:\n",
        "  # Call the scrape_reddit_data function to collect data from the specified subreddits using the Reddit instance\n",
        "  data = scrape_reddit_data(each_subreddit,reddit_instance)\n",
        "  # Save the scraped data to a JSON file named 'reddit_dataset.json'\n",
        "  save_reddit_data_to_file(data, each_subreddit+'.json')"
      ],
      "metadata": {
        "id": "sKb2HwYe-j8V"
      },
      "execution_count": null,
      "outputs": []
    },
    {
      "cell_type": "code",
      "source": [],
      "metadata": {
        "id": "Kgari8gl-mzq"
      },
      "execution_count": null,
      "outputs": []
    }
  ],
  "metadata": {
    "colab": {
      "provenance": []
    },
    "kernelspec": {
      "display_name": "Python 3",
      "name": "python3"
    },
    "language_info": {
      "name": "python"
    }
  },
  "nbformat": 4,
  "nbformat_minor": 0
}