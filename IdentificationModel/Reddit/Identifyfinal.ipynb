{
  "nbformat": 4,
  "nbformat_minor": 0,
  "metadata": {
    "colab": {
      "provenance": [],
      "gpuType": "T4"
    },
    "kernelspec": {
      "name": "python3",
      "display_name": "Python 3"
    },
    "language_info": {
      "name": "python"
    },
    "accelerator": "GPU",
    "gpuClass": "standard"
  },
  "cells": [
    {
      "cell_type": "code",
      "source": [
        "!pip3 install fasttext\n",
        "!pip3 install transformers"
      ],
      "metadata": {
        "id": "E818jhLlauXd"
      },
      "execution_count": null,
      "outputs": []
    },
    {
      "cell_type": "code",
      "execution_count": null,
      "metadata": {
        "id": "0TwGj0TSWO4x"
      },
      "outputs": [],
      "source": [
        "!git clone https://github.com/AI4Bharat/IndicLID.git"
      ]
    },
    {
      "cell_type": "code",
      "source": [
        "%cd \"/content/IndicLID/Inference\""
      ],
      "metadata": {
        "id": "LTeZjvTBanun"
      },
      "execution_count": null,
      "outputs": []
    },
    {
      "cell_type": "code",
      "source": [
        "%mkdir models\n",
        "%cd \"/content/IndicLID/Inference/models\""
      ],
      "metadata": {
        "id": "qnEexoohl8FN"
      },
      "execution_count": null,
      "outputs": []
    },
    {
      "cell_type": "code",
      "source": [
        "!wget https://github.com/AI4Bharat/IndicLID/releases/download/v1.0/indiclid-bert.zip\n",
        "!wget https://github.com/AI4Bharat/IndicLID/releases/download/v1.0/indiclid-ftn.zip\n",
        "!wget https://github.com/AI4Bharat/IndicLID/releases/download/v1.0/indiclid-ftr.zip"
      ],
      "metadata": {
        "id": "YuPIMRGIcJTH"
      },
      "execution_count": null,
      "outputs": []
    },
    {
      "cell_type": "code",
      "source": [
        "!unzip indiclid-bert.zip\n",
        "!unzip indiclid-ftn.zip\n",
        "!unzip indiclid-ftr.zip"
      ],
      "metadata": {
        "id": "JAXjxBEKmCmv"
      },
      "execution_count": null,
      "outputs": []
    },
    {
      "cell_type": "code",
      "source": [
        "# %cd \"/content/IndicLID/\"\n",
        "%cd \"/content/IndicLID/Inference\""
      ],
      "metadata": {
        "id": "MJEnTEkYcgtW"
      },
      "execution_count": null,
      "outputs": []
    },
    {
      "cell_type": "code",
      "source": [
        "from ai4bharat.IndicLID import IndicLID\n",
        "\n",
        "IndicLID_model = IndicLID(input_threshold = 0.5, roman_lid_threshold = 0.6)"
      ],
      "metadata": {
        "id": "caLffPG_MciT"
      },
      "execution_count": null,
      "outputs": []
    },
    {
      "cell_type": "code",
      "source": [
        "import json\n",
        "\n",
        "# Function to extract all 'body' fields from comments and their replies\n",
        "def extract_bodies(data):\n",
        "    bodies = []\n",
        "    for item in data:  # Assuming the top-level structure is a list\n",
        "        if 'comments' in item:  # Check if the 'comments' key exists\n",
        "            for comment in item['comments']:\n",
        "                if 'body' in comment:  # Check if the 'body' key exists in the comment\n",
        "                    clean_body = comment['body'].replace('\\n', ' ')  # Replace newline characters with a space\n",
        "                    bodies.append(clean_body)\n",
        "                if 'reply' in comment:  # Check if there are replies\n",
        "                    for reply in comment['reply']:\n",
        "                        if 'body' in reply:  # Check if the 'body' key exists in the reply\n",
        "                            clean_reply_body = reply['body'].replace('\\n', ' ')  # Similarly, clean up the reply body\n",
        "                            bodies.append(clean_reply_body)\n",
        "    return bodies\n",
        "\n",
        "# Function to read JSON data from a file and extract bodies\n",
        "def read_and_extract(file_path):\n",
        "    with open(file_path, 'r', encoding='utf-8') as file:  # Open the file in read mode\n",
        "        data = json.load(file)  # Load JSON data from the file\n",
        "        return extract_bodies(data)  # Extract bodies using the function defined earlier\n",
        "\n",
        "# Specify the path to your JSON file\n",
        "file_path = '/content/MergedDelhi.json'  # Update this to the path of your JSON file\n",
        "comment_bodies = read_and_extract(file_path)\n",
        "#print(comment_bodies)\n",
        "test_samples1 = comment_bodies\n",
        "seen = set()\n",
        "unique_list = []\n",
        "for item in test_samples1:\n",
        "    if item not in seen:\n",
        "        unique_list.append(item)\n",
        "        seen.add(item)\n"
      ],
      "metadata": {
        "id": "Fpd_C71swhCy"
      },
      "execution_count": null,
      "outputs": []
    },
    {
      "cell_type": "markdown",
      "source": [
        "Unit test, to see if the data has been read correctly and model is predicting correctly\n"
      ],
      "metadata": {
        "id": "1Y1EeAM7WkeJ"
      }
    },
    {
      "cell_type": "code",
      "source": [
        "test_samples = comment_bodies[:3]"
      ],
      "metadata": {
        "id": "1Pk4y9SGM0S2"
      },
      "execution_count": 13,
      "outputs": []
    },
    {
      "cell_type": "code",
      "source": [
        "batch_size = 1\n",
        "outputs1 = IndicLID_model.batch_predict(test_samples, batch_size)\n",
        "print(outputs1)"
      ],
      "metadata": {
        "id": "Wz-I5hGETgmc"
      },
      "execution_count": null,
      "outputs": []
    },
    {
      "cell_type": "markdown",
      "source": [
        "Runs on the entire datset provided only the unique rows"
      ],
      "metadata": {
        "id": "Pho17TvfW-n2"
      }
    },
    {
      "cell_type": "code",
      "source": [
        "batch_size = 1\n",
        "outputs = IndicLID_model.batch_predict(unique_list, batch_size)"
      ],
      "metadata": {
        "id": "tzGcNS1SX9da"
      },
      "execution_count": 20,
      "outputs": []
    },
    {
      "cell_type": "code",
      "source": [
        "print(outputs)"
      ],
      "metadata": {
        "id": "r-eWigM3l8ap"
      },
      "execution_count": null,
      "outputs": []
    },
    {
      "cell_type": "markdown",
      "source": [
        "Prints the total number of data"
      ],
      "metadata": {
        "id": "O53azgfBXVMI"
      }
    },
    {
      "cell_type": "code",
      "source": [
        "#english_list = []\n",
        "count=0\n",
        "for item in outputs:\n",
        "    #if item[1] == 'eng_Latn':\n",
        "        #print(item[0])\n",
        "        #english_list.append(item)\n",
        "        count = count + 1\n",
        "print(count)"
      ],
      "metadata": {
        "id": "Rs68gQv_23uw"
      },
      "execution_count": null,
      "outputs": []
    }
  ]
}