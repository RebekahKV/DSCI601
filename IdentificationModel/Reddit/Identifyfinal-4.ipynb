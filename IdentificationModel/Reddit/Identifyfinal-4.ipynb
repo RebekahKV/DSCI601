{
  "nbformat": 4,
  "nbformat_minor": 0,
  "metadata": {
    "colab": {
      "provenance": [],
      "gpuType": "T4"
    },
    "kernelspec": {
      "name": "python3",
      "display_name": "Python 3"
    },
    "language_info": {
      "name": "python"
    },
    "accelerator": "GPU",
    "gpuClass": "standard"
  },
  "cells": [
    {
      "cell_type": "markdown",
      "source": [
        "**Install and Import IndicLID**"
      ],
      "metadata": {
        "id": "yQfQDdAaEklK"
      }
    },
    {
      "cell_type": "code",
      "source": [
        "!pip3 install fasttext\n",
        "!pip3 install transformers"
      ],
      "metadata": {
        "id": "E818jhLlauXd"
      },
      "execution_count": null,
      "outputs": []
    },
    {
      "cell_type": "code",
      "execution_count": null,
      "metadata": {
        "id": "0TwGj0TSWO4x"
      },
      "outputs": [],
      "source": [
        "!git clone https://github.com/AI4Bharat/IndicLID.git"
      ]
    },
    {
      "cell_type": "code",
      "source": [
        "%cd \"/content/IndicLID/Inference\""
      ],
      "metadata": {
        "id": "LTeZjvTBanun"
      },
      "execution_count": null,
      "outputs": []
    },
    {
      "cell_type": "code",
      "source": [
        "%mkdir models\n",
        "%cd \"/content/IndicLID/Inference/models\""
      ],
      "metadata": {
        "id": "qnEexoohl8FN"
      },
      "execution_count": null,
      "outputs": []
    },
    {
      "cell_type": "code",
      "source": [
        "!wget https://github.com/AI4Bharat/IndicLID/releases/download/v1.0/indiclid-bert.zip\n",
        "!wget https://github.com/AI4Bharat/IndicLID/releases/download/v1.0/indiclid-ftn.zip\n",
        "!wget https://github.com/AI4Bharat/IndicLID/releases/download/v1.0/indiclid-ftr.zip"
      ],
      "metadata": {
        "id": "YuPIMRGIcJTH"
      },
      "execution_count": null,
      "outputs": []
    },
    {
      "cell_type": "code",
      "source": [
        "!unzip indiclid-bert.zip\n",
        "!unzip indiclid-ftn.zip\n",
        "!unzip indiclid-ftr.zip"
      ],
      "metadata": {
        "id": "JAXjxBEKmCmv"
      },
      "execution_count": null,
      "outputs": []
    },
    {
      "cell_type": "code",
      "source": [
        "# %cd \"/content/IndicLID/\"\n",
        "%cd \"/content/IndicLID/Inference\""
      ],
      "metadata": {
        "id": "MJEnTEkYcgtW"
      },
      "execution_count": null,
      "outputs": []
    },
    {
      "cell_type": "code",
      "source": [
        "from ai4bharat.IndicLID import IndicLID\n",
        "\n",
        "IndicLID_model = IndicLID(input_threshold = 0.5, roman_lid_threshold = 0.6)"
      ],
      "metadata": {
        "id": "caLffPG_MciT"
      },
      "execution_count": null,
      "outputs": []
    },
    {
      "cell_type": "markdown",
      "source": [
        "Extract Posts Body along with Replies"
      ],
      "metadata": {
        "id": "t3hfrkUAEzxx"
      }
    },
    {
      "cell_type": "code",
      "source": [
        "# Import necessary libraries\n",
        "import json\n",
        "from typing import List, Tuple\n",
        "\n",
        "# Function to extract all 'body' fields from comments and their replies\n",
        "def extract_bodies(data: List[dict]) -> List[str]:\n",
        "    \"\"\"\n",
        "    Extracts 'body' fields from comments and their replies.\n",
        "\n",
        "    Args:\n",
        "        data (List[dict]): List of dictionaries containing comment data.\n",
        "\n",
        "    Returns:\n",
        "        List[str]: List of extracted 'body' fields.\n",
        "    \"\"\"\n",
        "    bodies: List[str] = []\n",
        "    for item in data:  # Assuming the top-level structure is a list\n",
        "        if 'comments' in item:  # Check if the 'comments' key exists\n",
        "            for comment in item['comments']:\n",
        "                if 'body' in comment:  # Check if the 'body' key exists in the comment\n",
        "                    clean_body = comment['body'].replace('\\n', ' ')  # Replace newline characters with a space\n",
        "                    bodies.append(clean_body)\n",
        "                if 'reply' in comment:  # Check if there are replies\n",
        "                    for reply in comment['reply']:\n",
        "                        if 'body' in reply:  # Check if the 'body' key exists in the reply\n",
        "                            clean_reply_body = reply['body'].replace('\\n', ' ')  # Similarly, clean up the reply body\n",
        "                            bodies.append(clean_reply_body)\n",
        "    return bodies\n",
        "\n",
        "# Function to read JSON data from a file and extract bodies\n",
        "def read_and_extract(file_path: str) -> List[str]:\n",
        "    \"\"\"\n",
        "    Reads JSON data from a file and extracts 'body' fields.\n",
        "\n",
        "    Args:\n",
        "        file_path (str): Path to the JSON file.\n",
        "\n",
        "    Returns:\n",
        "        List[str]: List of extracted 'body' fields.\n",
        "    \"\"\"\n",
        "    with open(file_path, 'r', encoding='utf-8') as file:  # Open the file in read mode\n",
        "        data: List[dict] = json.load(file)  # Load JSON data from the file\n",
        "        return extract_bodies(data)  # Extract bodies using the function defined earlier\n",
        "\n",
        "# Specify the path to your JSON file\n",
        "file_path = '/content/Delhi-9.json'  # Update this to the path of your JSON file\n",
        "comment_bodies: List[str] = read_and_extract(file_path)\n",
        "#print(comment_bodies)\n",
        "test_samples1 = comment_bodies\n",
        "seen = set()\n",
        "unique_list = []\n",
        "for item in test_samples1:\n",
        "    if item not in seen:\n",
        "        unique_list.append(item)\n",
        "        seen.add(item)\n"
      ],
      "metadata": {
        "id": "Fpd_C71swhCy"
      },
      "execution_count": 9,
      "outputs": []
    },
    {
      "cell_type": "markdown",
      "source": [
        "Unit test, to see if the data has been read correctly and model is predicting correctly\n"
      ],
      "metadata": {
        "id": "1Y1EeAM7WkeJ"
      }
    },
    {
      "cell_type": "code",
      "source": [
        "test_samples = comment_bodies[:3]"
      ],
      "metadata": {
        "id": "1Pk4y9SGM0S2"
      },
      "execution_count": 10,
      "outputs": []
    },
    {
      "cell_type": "code",
      "source": [
        "batch_size = 1\n",
        "outputs1 = IndicLID_model.batch_predict(test_samples, batch_size)\n",
        "print(outputs1)"
      ],
      "metadata": {
        "id": "Wz-I5hGETgmc"
      },
      "execution_count": null,
      "outputs": []
    },
    {
      "cell_type": "markdown",
      "source": [
        "Runs on the entire datset provided only the unique rows"
      ],
      "metadata": {
        "id": "Pho17TvfW-n2"
      }
    },
    {
      "cell_type": "code",
      "source": [
        "batch_size = 1\n",
        "outputs = IndicLID_model.batch_predict(unique_list, batch_size)"
      ],
      "metadata": {
        "id": "tzGcNS1SX9da"
      },
      "execution_count": 12,
      "outputs": []
    },
    {
      "cell_type": "code",
      "source": [
        "print(outputs)"
      ],
      "metadata": {
        "id": "r-eWigM3l8ap"
      },
      "execution_count": null,
      "outputs": []
    },
    {
      "cell_type": "markdown",
      "source": [
        "Prints the total number of data"
      ],
      "metadata": {
        "id": "O53azgfBXVMI"
      }
    },
    {
      "cell_type": "code",
      "source": [
        "#english_list = []\n",
        "count=0\n",
        "for item in outputs:\n",
        "    #if item[1] == 'eng_Latn':\n",
        "        #print(item[0])\n",
        "        #english_list.append(item)\n",
        "        count = count + 1\n",
        "print(count)"
      ],
      "metadata": {
        "id": "Rs68gQv_23uw",
        "colab": {
          "base_uri": "https://localhost:8080/"
        },
        "outputId": "5a38b6ab-ac90-4a73-87ad-2a0842c477ea"
      },
      "execution_count": 14,
      "outputs": [
        {
          "output_type": "stream",
          "name": "stdout",
          "text": [
            "4986\n"
          ]
        }
      ]
    },
    {
      "cell_type": "code",
      "source": [
        "import unittest\n",
        "from unittest.mock import MagicMock\n",
        "\n",
        "class TestModelPredictions(unittest.TestCase):\n",
        "    def setUp(self):\n",
        "        \"\"\"Setting up mocked model\"\"\"\n",
        "        self.mocked_model = MagicMock()\n",
        "        self.mocked_model.batch_predict.return_value = [\n",
        "            (\"I'll be landing in delhi tomorrow, will update it :')\", 'eng_Latn', 1.0000157, 'IndicLID-FTR'),\n",
        "            (\"Mast video banake upload karna bhai, muje bhi dekhna hai pollution\", 'ben_Latn', 0.60675067, 'IndicLID-FTR'),\n",
        "            (\"Window seat confirm mili hai ?\", 'eng_Latn', 0.990012, 'IndicLID-FTR')\n",
        "        ]\n",
        "        self.test_samples = [\n",
        "            \"I'll be landing in delhi tomorrow, will update it :')\",\n",
        "            \"Mast video banake upload karna bhai, muje bhi dekhna hai pollution\",\n",
        "            \"Window seat confirm mili hai ?\"\n",
        "        ]\n",
        "        self.batch_size = 1\n",
        "\n",
        "    def test_batch_predictions(self):\n",
        "        \"\"\"Test the batch prediction output structure and data types.\"\"\"\n",
        "        outputs = self.mocked_model.batch_predict(self.test_samples, self.batch_size)\n",
        "\n",
        "        # Check if the output is a list\n",
        "        self.assertIsInstance(outputs, list, \"Output should be a list.\")\n",
        "\n",
        "        # Check each item in the output list\n",
        "        for item in outputs:\n",
        "            self.assertIsInstance(item, tuple, \"Every output item must be a tuple.\")\n",
        "            self.assertEqual(len(item), 4, \"Every tuple must contain exactly four elements.\")\n",
        "\n",
        "            # Check data types\n",
        "            self.assertIsInstance(item[0], str, \"First element of the tuple must be a string.\")\n",
        "            self.assertIsInstance(item[1], str, \"Second element of the tuple must be a string.\")\n",
        "            self.assertIsInstance(item[2], float, \"Third element of the tuple must be a float.\")\n",
        "            self.assertIsInstance(item[3], str, \"Fourth element of the tuple must be a string.\")\n",
        "\n",
        "# Running the tests\n",
        "if __name__ == '__main__':\n",
        "    unittest.main(argv=['first-arg-is-ignored'], exit=False)\n"
      ],
      "metadata": {
        "id": "CX8jzR8U12kh"
      },
      "execution_count": null,
      "outputs": []
    }
  ]
}